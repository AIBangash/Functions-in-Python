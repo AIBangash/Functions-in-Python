{
 "cells": [
  {
   "cell_type": "markdown",
   "metadata": {},
   "source": [
    "# Functions\n",
    "* function declair/define\n",
    "    * function name\n",
    "    * arguments\n",
    "* function body\n",
    "    * set of statement\n",
    "* function calling\n",
    "    * name()\n",
    "    * pass arguments\n",
    "    \n",
    "## pre-define\n",
    "\n",
    "## user-define\n",
    "\n",
    "## return\n",
    "* if store output in variable\n",
    "## Non-return\n",
    "* if not store output in variable\n",
    "## defualt \n",
    "* not required any argument when we call\n",
    "## required arguments\n",
    "* function will not work without it\n",
    "## optional arguments\n",
    "* if we did'nt provide it function will also work with some defualt arguments value\n",
    "## Generator function\n",
    "* generate value one by one\n",
    "* alway remember old generated value\n",
    "## Lambda function\n",
    "* one line function\n",
    "* it has no name\n",
    "* one time use only\n",
    "\n",
    "## Recursive function\n",
    "* it call in own body\n"
   ]
  },
  {
   "cell_type": "markdown",
   "metadata": {},
   "source": [
    "# Pre-Define Functions"
   ]
  },
  {
   "cell_type": "code",
   "execution_count": 3,
   "metadata": {},
   "outputs": [
    {
     "name": "stdout",
     "output_type": "stream",
     "text": [
      "Hello\n",
      "5\n",
      "2626563222256\n"
     ]
    }
   ],
   "source": [
    "print(\"Hello\") #function calling\n",
    "print(len(\"hello\"))#function calling\n",
    "print(id(\"Hello\"))#function calling"
   ]
  },
  {
   "cell_type": "markdown",
   "metadata": {},
   "source": [
    "# Return/None-return function"
   ]
  },
  {
   "cell_type": "code",
   "execution_count": 1,
   "metadata": {},
   "outputs": [
    {
     "name": "stdout",
     "output_type": "stream",
     "text": [
      "2197624004976\n"
     ]
    }
   ],
   "source": [
    "returnFun =id(\"It is return function\")\n",
    "print(returnFun)"
   ]
  },
  {
   "cell_type": "code",
   "execution_count": 6,
   "metadata": {},
   "outputs": [
    {
     "name": "stdout",
     "output_type": "stream",
     "text": [
      "17\n"
     ]
    }
   ],
   "source": [
    "returnFun=len(\"It is a retun fuc\")\n",
    "print(returnFun)"
   ]
  },
  {
   "cell_type": "code",
   "execution_count": 4,
   "metadata": {},
   "outputs": [
    {
     "name": "stdout",
     "output_type": "stream",
     "text": [
      "Hellow World\n",
      "None\n"
     ]
    }
   ],
   "source": [
    "nonReturn = print(\"Hellow World\") # non return\n",
    "print(nonReturn)# unable to store value in variable"
   ]
  },
  {
   "cell_type": "markdown",
   "metadata": {},
   "source": [
    "# User define function\n",
    "```\n",
    "def function_word(arg1, arg2,..):\n",
    "    statement1\n",
    "    statement2\n",
    "   \n",
    "function_word(arg1, arg2)\n",
    "```"
   ]
  },
  {
   "cell_type": "code",
   "execution_count": 7,
   "metadata": {},
   "outputs": [
    {
     "name": "stdout",
     "output_type": "stream",
     "text": [
      "PIAIC\n",
      "courses\n",
      "\t AI\n",
      "\t Blockchain\n"
     ]
    }
   ],
   "source": [
    "def piaic_introduction(): # function declair\n",
    "    print(\"PIAIC\")# statement1\n",
    "    print('courses')#2\n",
    "    print(\"\\t AI\")#3\n",
    "    print(\"\\t Blockchain\")#\n",
    "    \n",
    "    \n",
    "piaic_introduction()    "
   ]
  },
  {
   "cell_type": "code",
   "execution_count": 18,
   "metadata": {},
   "outputs": [
    {
     "name": "stdout",
     "output_type": "stream",
     "text": [
      "Pakistan Air Force \n",
      "\t ment for air security\n",
      "\t\t huge security oraganization\n"
     ]
    }
   ],
   "source": [
    "def PAF_introduction():\n",
    "    print(\"Pakistan Air Force \")\n",
    "    print(\"\\t ment for air security\")\n",
    "    print(\"\\t\\t huge security oraganization\")\n",
    "    \n",
    "PAF_introduction()"
   ]
  },
  {
   "cell_type": "code",
   "execution_count": 20,
   "metadata": {},
   "outputs": [
    {
     "name": "stdout",
     "output_type": "stream",
     "text": [
      "Pakistan Air Force \n",
      "\t ment for air security\n",
      "\t\t huge security oraganization\n"
     ]
    }
   ],
   "source": [
    "PAF_introduction()"
   ]
  },
  {
   "cell_type": "code",
   "execution_count": 21,
   "metadata": {},
   "outputs": [
    {
     "name": "stdout",
     "output_type": "stream",
     "text": [
      "\n",
      "    PIAIC\n",
      "    Course offer\n",
      "        AI\n",
      "        Blockchain\n",
      "        Cloud computing\n",
      "        Metaverse\n",
      "    \n"
     ]
    }
   ],
   "source": [
    "def piaic_introduction(): # function declair\n",
    "    txt = \"\"\"\n",
    "    PIAIC\n",
    "    Course offer\n",
    "        AI\n",
    "        Blockchain\n",
    "        Cloud computing\n",
    "        Metaverse\n",
    "    \"\"\"\n",
    "    return txt\n",
    "    \n",
    "    \n",
    "print(piaic_introduction())# return function"
   ]
  },
  {
   "cell_type": "code",
   "execution_count": 13,
   "metadata": {},
   "outputs": [
    {
     "name": "stdout",
     "output_type": "stream",
     "text": [
      "\n",
      "    PIAIC\n",
      "    Course offer\n",
      "        AI\n",
      "        Blockchain\n",
      "        Cloud computing\n",
      "        Metaverse\n",
      "    \n",
      "\n",
      "    PIAIC\n",
      "    Course offer\n",
      "        AI\n",
      "        Blockchain\n",
      "        Cloud computing\n",
      "        Metaverse\n",
      "    \n"
     ]
    }
   ],
   "source": [
    "print(piaic_introduction())\n",
    "print(piaic_introduction())"
   ]
  },
  {
   "cell_type": "code",
   "execution_count": 28,
   "metadata": {},
   "outputs": [
    {
     "name": "stdout",
     "output_type": "stream",
     "text": [
      "\n",
      "    PAF take\n",
      "        youngsters for \n",
      "            fighting force\n",
      "    \n",
      "    \n"
     ]
    }
   ],
   "source": [
    "def PAF_introduction():\n",
    "    txt = \"\"\"\n",
    "    PAF take\n",
    "        youngsters for \n",
    "            fighting force\n",
    "    \n",
    "    \"\"\"\n",
    "    return txt\n",
    "print(PAF_introduction())"
   ]
  },
  {
   "cell_type": "code",
   "execution_count": 30,
   "metadata": {},
   "outputs": [
    {
     "name": "stdout",
     "output_type": "stream",
     "text": [
      "\n",
      "    PAF take\n",
      "        youngsters for \n",
      "            fighting force\n",
      "    \n",
      "    \n"
     ]
    }
   ],
   "source": [
    "print(PAF_introduction())"
   ]
  },
  {
   "cell_type": "markdown",
   "metadata": {},
   "source": [
    "# required arguments"
   ]
  },
  {
   "cell_type": "code",
   "execution_count": 15,
   "metadata": {},
   "outputs": [
    {
     "name": "stdout",
     "output_type": "stream",
     "text": [
      "27\n",
      "25\n",
      "15\n"
     ]
    }
   ],
   "source": [
    "def addtion(num1, num2):\n",
    "    return num1 + num2\n",
    "\n",
    "print(addtion(7,20))\n",
    "print(addtion(5,20))\n",
    "print(addtion(6,9))"
   ]
  },
  {
   "cell_type": "code",
   "execution_count": 55,
   "metadata": {},
   "outputs": [
    {
     "ename": "NameError",
     "evalue": "name 'addtion' is not defined",
     "output_type": "error",
     "traceback": [
      "\u001b[1;31m---------------------------------------------------------------------------\u001b[0m",
      "\u001b[1;31mNameError\u001b[0m                                 Traceback (most recent call last)",
      "\u001b[1;32m~\\AppData\\Local\\Temp/ipykernel_7640/3175220673.py\u001b[0m in \u001b[0;36m<module>\u001b[1;34m\u001b[0m\n\u001b[1;32m----> 1\u001b[1;33m \u001b[0maddtion\u001b[0m\u001b[1;33m(\u001b[0m\u001b[1;36m7\u001b[0m\u001b[1;33m)\u001b[0m\u001b[1;31m#both argumnts shoul be taken\u001b[0m\u001b[1;33m\u001b[0m\u001b[1;33m\u001b[0m\u001b[0m\n\u001b[0m",
      "\u001b[1;31mNameError\u001b[0m: name 'addtion' is not defined"
     ]
    }
   ],
   "source": [
    "addtion(7)#both argumnts shoul be taken"
   ]
  },
  {
   "cell_type": "code",
   "execution_count": 49,
   "metadata": {},
   "outputs": [
    {
     "name": "stdout",
     "output_type": "stream",
     "text": [
      "7\n",
      "21\n"
     ]
    }
   ],
   "source": [
    "def addition(num1,num2):\n",
    "    return num1+num2\n",
    "print(addition(5,2))\n",
    "print(addition(10,11))\n",
    "    "
   ]
  },
  {
   "cell_type": "code",
   "execution_count": 50,
   "metadata": {},
   "outputs": [
    {
     "data": {
      "text/plain": [
       "9"
      ]
     },
     "execution_count": 50,
     "metadata": {},
     "output_type": "execute_result"
    }
   ],
   "source": [
    "addition(7,2)"
   ]
  },
  {
   "cell_type": "code",
   "execution_count": 54,
   "metadata": {},
   "outputs": [
    {
     "name": "stdout",
     "output_type": "stream",
     "text": [
      "8\n"
     ]
    }
   ],
   "source": [
    "def substraction(num1,num2):\n",
    "    return num1-num2\n",
    "print(substraction(10,2))      "
   ]
  },
  {
   "cell_type": "markdown",
   "metadata": {},
   "source": [
    "# Optional arguments"
   ]
  },
  {
   "cell_type": "code",
   "execution_count": 18,
   "metadata": {},
   "outputs": [
    {
     "name": "stdout",
     "output_type": "stream",
     "text": [
      "0\n",
      "1\n",
      "5\n"
     ]
    }
   ],
   "source": [
    "def addtion(num1=0, num2=0): #arg=value\n",
    "    return num1 + num2\n",
    "\n",
    "print(addtion())\n",
    "print(addtion(1))\n",
    "print(addtion(2,3))\n"
   ]
  },
  {
   "cell_type": "code",
   "execution_count": 56,
   "metadata": {},
   "outputs": [
    {
     "name": "stdout",
     "output_type": "stream",
     "text": [
      "0\n",
      "1\n",
      "1\n"
     ]
    }
   ],
   "source": [
    "def substraction(num1=0, num2=0): \n",
    "    return num1-num2\n",
    "\n",
    "print(substraction())\n",
    "print(substraction(1))\n",
    "print(substraction(2,1))"
   ]
  },
  {
   "cell_type": "markdown",
   "metadata": {},
   "source": [
    "# required and optional arguments"
   ]
  },
  {
   "cell_type": "code",
   "execution_count": 25,
   "metadata": {},
   "outputs": [
    {
     "name": "stdout",
     "output_type": "stream",
     "text": [
      "\n",
      "    Boiling Sehla rice...\n",
      "    making qorma with chiken meat...\n",
      "    mixing tamato 0.5 KG...\n",
      "    Now you enjoy biryani :)\n",
      "    \n",
      "\n",
      "    Boiling Sehla rice...\n",
      "    making qorma with chiken meat...\n",
      "    mixing tamato 0.5 KG...\n",
      "    Now you enjoy biryani :)\n",
      "    \n",
      "\n",
      "    Boiling Sehla rice...\n",
      "    making qorma with chiken meat...\n",
      "    mixing tamato 0.5 KG...\n",
      "    Now you enjoy biryani :)\n",
      "    \n"
     ]
    }
   ],
   "source": [
    "def making_biryani(rice,meat, tamato=\"0.5 KG\"):\n",
    "    txt = f\"\"\"\n",
    "    Boiling {rice} rice...\n",
    "    making qorma with {meat} meat...\n",
    "    mixing tamato {tamato}...\n",
    "    Now you enjoy biryani :)\n",
    "    \"\"\"\n",
    "    \n",
    "    return txt\n",
    "\n",
    "a = making_biryani(\"Sehla\",'chiken')\n",
    "print(a)\n",
    "print(a)\n",
    "print(a)    "
   ]
  },
  {
   "cell_type": "code",
   "execution_count": 65,
   "metadata": {},
   "outputs": [
    {
     "name": "stdout",
     "output_type": "stream",
     "text": [
      "\n",
      "    boiling 1 kg milk for 5 mints..\n",
      "    mixing sugar 0.5 kg...\n",
      "    adding bread...\n",
      "    now you enjoy a sweet cake :)\n",
      "    \n",
      "\n",
      "    boiling 1 kg milk for 5 mints..\n",
      "    mixing sugar 0.5 kg...\n",
      "    adding bread...\n",
      "    now you enjoy a sweet cake :)\n",
      "    \n"
     ]
    }
   ],
   "source": [
    "def making_cake(doubleRoti,milk,sugar=\"0.5 kg\"):\n",
    "    txt = f\"\"\"\n",
    "    boiling {milk} for 5 mints..\n",
    "    mixing sugar {sugar}...\n",
    "    adding {doubleRoti}...\n",
    "    now you enjoy a sweet cake :)\n",
    "    \"\"\"\n",
    "    return txt\n",
    "\n",
    "a = making_cake(\"bread\",\"1 kg milk\")\n",
    "print(a)\n",
    "print(a)"
   ]
  },
  {
   "cell_type": "code",
   "execution_count": 63,
   "metadata": {},
   "outputs": [
    {
     "name": "stdout",
     "output_type": "stream",
     "text": [
      "Pakistan\n",
      "None\n"
     ]
    }
   ],
   "source": [
    "print(print(\"Pakistan\"))"
   ]
  },
  {
   "cell_type": "code",
   "execution_count": 26,
   "metadata": {},
   "outputs": [
    {
     "name": "stdout",
     "output_type": "stream",
     "text": [
      "\n",
      "    Boiling Basmati rice...\n",
      "    making qorma with beaf meat...\n",
      "    mixing tamato 1 KG...\n",
      "    Now you enjoy biryani :)\n",
      "    \n"
     ]
    }
   ],
   "source": [
    "print(making_biryani(\"Basmati\",'beaf','1 KG'))"
   ]
  },
  {
   "cell_type": "code",
   "execution_count": 66,
   "metadata": {},
   "outputs": [
    {
     "name": "stdout",
     "output_type": "stream",
     "text": [
      "\n",
      "    boiling maida for 5 mints..\n",
      "    mixing sugar 2 kg...\n",
      "    adding koya...\n",
      "    now you enjoy a sweet cake :)\n",
      "    \n"
     ]
    }
   ],
   "source": [
    "print(making_cake('koya','maida',\"2 kg\"))"
   ]
  },
  {
   "cell_type": "markdown",
   "metadata": {},
   "source": [
    "# optional argument2 unlimited"
   ]
  },
  {
   "cell_type": "code",
   "execution_count": 33,
   "metadata": {},
   "outputs": [
    {
     "name": "stdout",
     "output_type": "stream",
     "text": [
      "7 (2, 2, 3, 4, 5)\n"
     ]
    },
    {
     "data": {
      "text/plain": [
       "23"
      ]
     },
     "execution_count": 33,
     "metadata": {},
     "output_type": "execute_result"
    }
   ],
   "source": [
    "def my_sum(num1,*num): # *num \n",
    "    print(num1,num)\n",
    "    return num1 + sum(num)\n",
    "\n",
    "my_sum(7,2,2,3,4,5)"
   ]
  },
  {
   "cell_type": "code",
   "execution_count": 68,
   "metadata": {},
   "outputs": [
    {
     "name": "stdout",
     "output_type": "stream",
     "text": [
      "1 (2, 3, 4, 5)\n"
     ]
    },
    {
     "data": {
      "text/plain": [
       "15"
      ]
     },
     "execution_count": 68,
     "metadata": {},
     "output_type": "execute_result"
    }
   ],
   "source": [
    "def my_sum(num1,*num):\n",
    "    print(num1,num)\n",
    "    return num1 + sum(num)\n",
    "my_sum(1,2,3,4,5)"
   ]
  },
  {
   "cell_type": "code",
   "execution_count": 34,
   "metadata": {},
   "outputs": [
    {
     "name": "stdout",
     "output_type": "stream",
     "text": [
      "7 2 (2, 3, 4, 5)\n"
     ]
    },
    {
     "data": {
      "text/plain": [
       "23"
      ]
     },
     "execution_count": 34,
     "metadata": {},
     "output_type": "execute_result"
    }
   ],
   "source": [
    "def my_sum(num1,num2,*num): # *num \n",
    "    print(num1,num2,num)\n",
    "    return num1 + num2 +sum(num)\n",
    "\n",
    "my_sum(7,2,2,3,4,5)"
   ]
  },
  {
   "cell_type": "code",
   "execution_count": 69,
   "metadata": {},
   "outputs": [
    {
     "name": "stdout",
     "output_type": "stream",
     "text": [
      "1 2 (3, 4, 5)\n"
     ]
    },
    {
     "data": {
      "text/plain": [
       "15"
      ]
     },
     "execution_count": 69,
     "metadata": {},
     "output_type": "execute_result"
    }
   ],
   "source": [
    "def my_sum(num1,num2,*num):\n",
    "    print(num1,num2,num)\n",
    "    return num1 + num2 + sum(num)\n",
    "my_sum(1,2,3,4,5)"
   ]
  },
  {
   "cell_type": "code",
   "execution_count": 35,
   "metadata": {},
   "outputs": [
    {
     "name": "stdout",
     "output_type": "stream",
     "text": [
      "(7, 2, 2, 3, 4, 5)\n"
     ]
    },
    {
     "data": {
      "text/plain": [
       "23"
      ]
     },
     "execution_count": 35,
     "metadata": {},
     "output_type": "execute_result"
    }
   ],
   "source": [
    "def my_sum(*num): # *num during define = tuple\n",
    "    print(num)\n",
    "    return sum(num)\n",
    "\n",
    "my_sum(7,2,2,3,4,5)"
   ]
  },
  {
   "cell_type": "code",
   "execution_count": 71,
   "metadata": {},
   "outputs": [
    {
     "name": "stdout",
     "output_type": "stream",
     "text": [
      "(1, 2, 3, 4, 5)\n"
     ]
    },
    {
     "data": {
      "text/plain": [
       "15"
      ]
     },
     "execution_count": 71,
     "metadata": {},
     "output_type": "execute_result"
    }
   ],
   "source": [
    "def my_sum(*num):\n",
    "    print(num)\n",
    "    return sum(num)\n",
    "my_sum(1,2,3,4,5)"
   ]
  },
  {
   "cell_type": "code",
   "execution_count": 36,
   "metadata": {},
   "outputs": [
    {
     "name": "stdout",
     "output_type": "stream",
     "text": [
      "20\n",
      "25\n"
     ]
    }
   ],
   "source": [
    "a, b = [20,25] # unzip\n",
    "print(a)\n",
    "print(b)"
   ]
  },
  {
   "cell_type": "code",
   "execution_count": 72,
   "metadata": {},
   "outputs": [
    {
     "name": "stdout",
     "output_type": "stream",
     "text": [
      "10\n",
      "20\n"
     ]
    }
   ],
   "source": [
    "a,b =[10,20]\n",
    "print(a)\n",
    "print(b)"
   ]
  },
  {
   "cell_type": "code",
   "execution_count": 41,
   "metadata": {},
   "outputs": [
    {
     "name": "stdout",
     "output_type": "stream",
     "text": [
      "1 20 30 50 100\n",
      "1 20 30 50 100\n",
      "1 20 30 50 100\n",
      "[1, 20, 30, 50, 100]\n"
     ]
    }
   ],
   "source": [
    "l = [1,20,30,50,100]\n",
    "print(l[0],l[1],l[2],l[3],l[4])\n",
    "print(*l) #during call * before iterated datatype = unzip values\n",
    "print(1,20,30,50,100)\n",
    "print(l)"
   ]
  },
  {
   "cell_type": "code",
   "execution_count": 76,
   "metadata": {},
   "outputs": [
    {
     "name": "stdout",
     "output_type": "stream",
     "text": [
      "1 2 3\n",
      "1 2 3\n",
      "1 2 3\n",
      "[1, 2, 3]\n"
     ]
    }
   ],
   "source": [
    "l = [1,2,3]\n",
    "print(l[0],l[1],l[2])\n",
    "print(*l)\n",
    "print(1,2,3)\n",
    "print(l)"
   ]
  },
  {
   "cell_type": "code",
   "execution_count": 80,
   "metadata": {},
   "outputs": [
    {
     "name": "stdout",
     "output_type": "stream",
     "text": [
      "(1, 2, 3)\n"
     ]
    },
    {
     "data": {
      "text/plain": [
       "6"
      ]
     },
     "execution_count": 80,
     "metadata": {},
     "output_type": "execute_result"
    }
   ],
   "source": [
    "my_sum(*l)"
   ]
  },
  {
   "cell_type": "code",
   "execution_count": 43,
   "metadata": {},
   "outputs": [
    {
     "name": "stdout",
     "output_type": "stream",
     "text": [
      "(1, 20, 30, 50, 100)\n"
     ]
    },
    {
     "data": {
      "text/plain": [
       "201"
      ]
     },
     "execution_count": 43,
     "metadata": {},
     "output_type": "execute_result"
    }
   ],
   "source": [
    "my_sum(*l)"
   ]
  },
  {
   "cell_type": "code",
   "execution_count": 90,
   "metadata": {},
   "outputs": [
    {
     "data": {
      "text/plain": [
       "130"
      ]
     },
     "execution_count": 90,
     "metadata": {},
     "output_type": "execute_result"
    }
   ],
   "source": [
    "def my_new_sum(num1,num2,num3,num4):\n",
    "    return num1 + num2 + num3 + num4\n",
    "\n",
    "l = [10,20,30,40]\n",
    "\n",
    "# my_new_sum(*l)\n",
    "# my_new_sum(l[0],l[1],l[2],l[3])\n",
    "my_new_sum(50,l[0],*l[-2:])"
   ]
  },
  {
   "cell_type": "code",
   "execution_count": 105,
   "metadata": {},
   "outputs": [
    {
     "name": "stdout",
     "output_type": "stream",
     "text": [
      "50 1 [2, 3]\n",
      "50 1 2 3\n"
     ]
    }
   ],
   "source": [
    "print(50,l[0],l[-2:])\n",
    "print(50,l[0],*l[-2:])"
   ]
  },
  {
   "cell_type": "code",
   "execution_count": 104,
   "metadata": {},
   "outputs": [
    {
     "data": {
      "text/plain": [
       "7"
      ]
     },
     "execution_count": 104,
     "metadata": {},
     "output_type": "execute_result"
    }
   ],
   "source": [
    "def my_new_sum(num1,num2,num3):\n",
    "    return num1 + num2 + num3\n",
    "l =[1,2,3]\n",
    "#my_new_sum(*l)\n",
    "#my_new_sum(l[0],l[1],l[2])\n",
    "my_new_sum(1,l[2],*l[-1:])"
   ]
  },
  {
   "cell_type": "markdown",
   "metadata": {},
   "source": [
    "# Calling Functions with Keyword Arguments"
   ]
  },
  {
   "cell_type": "code",
   "execution_count": 5,
   "metadata": {},
   "outputs": [
    {
     "name": "stdout",
     "output_type": "stream",
     "text": [
      "\n",
      "   \"PIAIC Student Identity Card\"\n",
      "    Name: Gulshan\n",
      "    Roll No: 1\n",
      "    Father Name: Liaqat\n",
      "    Course: AI\n",
      "    \n",
      "\n",
      "   \"PIAIC Student Identity Card\"\n",
      "    Name: Farhan\n",
      "    Roll No: 2\n",
      "    Father Name: Gulshan\n",
      "    Course: Machine Learning\n",
      "    \n"
     ]
    }
   ],
   "source": [
    "def student_card(name, rollno, fname, course):\n",
    "    card = f\"\"\"\n",
    "   \"PIAIC Student Identity Card\"\n",
    "    Name: {name}\n",
    "    Roll No: {rollno}\n",
    "    Father Name: {fname}\n",
    "    Course: {course}\n",
    "    \"\"\"\n",
    "    return card\n",
    "print(student_card(\"Gulshan\", 1, \"Liaqat\", \"AI\"))\n",
    "print(student_card(\"Farhan\", 2, \"Gulshan\", \"Machine Learning\"))"
   ]
  },
  {
   "cell_type": "code",
   "execution_count": 62,
   "metadata": {},
   "outputs": [
    {
     "name": "stdout",
     "output_type": "stream",
     "text": [
      "\n",
      "   \"PIAIC Student Identity Card\"\n",
      "    Name: 1\n",
      "    Roll No: CA\n",
      "    Father Name: Liaqat\n",
      "    Course: Gulshan\n",
      "    \n"
     ]
    }
   ],
   "source": [
    "def student_card(name, rollno, fname, course):\n",
    "    card = f\"\"\"\n",
    "   \"PIAIC Student Identity Card\"\n",
    "    Name: {name}\n",
    "    Roll No: {rollno}\n",
    "    Father Name: {fname}\n",
    "    Course: {course}\n",
    "    \"\"\"\n",
    "    return card\n",
    "print(student_card(1, \"CA\", \"Liaqat\", \"Gulshan\"))"
   ]
  },
  {
   "cell_type": "code",
   "execution_count": 63,
   "metadata": {},
   "outputs": [
    {
     "name": "stdout",
     "output_type": "stream",
     "text": [
      "\n",
      "   \"PIAIC Student Identity Card\"\n",
      "    Name: Gulshan\n",
      "    Roll No: 1\n",
      "    Father Name: Liaqat\n",
      "    Course: CA\n",
      "    \n"
     ]
    }
   ],
   "source": [
    "print(student_card(name=\"Gulshan\", rollno=1, fname=\"Liaqat\", course=\"CA\"))"
   ]
  },
  {
   "cell_type": "code",
   "execution_count": 65,
   "metadata": {},
   "outputs": [
    {
     "name": "stdout",
     "output_type": "stream",
     "text": [
      "\n",
      "   \"PIAIC Student Identity Card\"\n",
      "    Name: Shahid\n",
      "    Roll No: 1\n",
      "    Father Name: Liaqat\n",
      "    Course: cloud Computing\n",
      "    \n"
     ]
    }
   ],
   "source": [
    "l = [\"Shahid\",1, \"Liaqat\", \"cloud Computing\"]\n",
    "print(student_card(*l)) #If we pass positional arguments with list = *list"
   ]
  },
  {
   "cell_type": "code",
   "execution_count": 66,
   "metadata": {},
   "outputs": [
    {
     "name": "stdout",
     "output_type": "stream",
     "text": [
      "\n",
      "   \"PIAIC Student Identity Card\"\n",
      "    Name: Gulshan\n",
      "    Roll No: 1\n",
      "    Father Name: Liaqat\n",
      "    Course: AI\n",
      "    \n"
     ]
    }
   ],
   "source": [
    "dic = {\"rollno\":1, \"name\": \"Gulshan\", \"fname\":\"Liaqat\", \"course\": \"AI\"}\n",
    "print(student_card(**dic)) # pass keyword argument = **dictionary"
   ]
  },
  {
   "cell_type": "code",
   "execution_count": 74,
   "metadata": {},
   "outputs": [
    {
     "name": "stdout",
     "output_type": "stream",
     "text": [
      "None\n"
     ]
    }
   ],
   "source": [
    "d1 = {\"name\":\"Shahid\",\n",
    "     \"fname\":\"Liaqat\",\n",
    "     \"rollno\":2,\n",
    "     \"course\":\"AI\"}\n",
    "\n",
    "print(student_card(**d1)) # pass keyword argument = **dictionary"
   ]
  },
  {
   "cell_type": "markdown",
   "metadata": {},
   "source": [
    "# Create Ketword argument unlimited"
   ]
  },
  {
   "cell_type": "code",
   "execution_count": 16,
   "metadata": {},
   "outputs": [
    {
     "name": "stdout",
     "output_type": "stream",
     "text": [
      "1 2 {'len': 10, 'age': 30, 'course': 'AI'}\n"
     ]
    }
   ],
   "source": [
    "def my_func(num1,num2, **xyz):# ** dictionary\n",
    "    print(num1,num2,xyz)\n",
    "    \n",
    "my_func(1,2,len=10, age=30, course=\"AI\")"
   ]
  },
  {
   "cell_type": "code",
   "execution_count": 26,
   "metadata": {},
   "outputs": [
    {
     "name": "stdout",
     "output_type": "stream",
     "text": [
      "12 23 ('Ali', 'Shahid', 'c', 'd') {'name': 'Gulshan', 'rollno': 1, 'course': 'AI'}\n"
     ]
    }
   ],
   "source": [
    "def my_func(num1,num4, *l, **dic): #passing list & dictionary as arguments\n",
    "    print(num1,num4,l,dic)\n",
    "    \n",
    "my_func(12,23,\"Ali\", 'Shahid', \"c\", 'd', name=\"Gulshan\",rollno=1,course=\"AI\")"
   ]
  },
  {
   "cell_type": "markdown",
   "metadata": {},
   "source": [
    "# Lambda function"
   ]
  },
  {
   "cell_type": "code",
   "execution_count": 3,
   "metadata": {},
   "outputs": [
    {
     "data": {
      "text/plain": [
       "17"
      ]
     },
     "execution_count": 3,
     "metadata": {},
     "output_type": "execute_result"
    }
   ],
   "source": [
    "def add(num1,num2):\n",
    "    return num1 + num2\n",
    "add(5,12)\n"
   ]
  },
  {
   "cell_type": "code",
   "execution_count": 7,
   "metadata": {},
   "outputs": [
    {
     "data": {
      "text/plain": [
       "6"
      ]
     },
     "execution_count": 7,
     "metadata": {},
     "output_type": "execute_result"
    }
   ],
   "source": [
    "b = lambda num1,num2: num1 + num2 # lambda arg1,arg2 : function_body\n",
    "b(2,4)"
   ]
  },
  {
   "cell_type": "code",
   "execution_count": 32,
   "metadata": {},
   "outputs": [
    {
     "data": {
      "text/plain": [
       "[[1, 'A', 'Z'], [2, 'B', 'Y'], [3, 'C', 'X']]"
      ]
     },
     "execution_count": 32,
     "metadata": {},
     "output_type": "execute_result"
    }
   ],
   "source": [
    "data = [[1,\"A\",\"Z\"],\n",
    "       [2,\"B\",\"Y\"],\n",
    "       [3,\"C\",\"X\"]]\n",
    "sorted(data, key=lambda x:x[1])#sorted data in ascendig order"
   ]
  },
  {
   "cell_type": "code",
   "execution_count": 38,
   "metadata": {},
   "outputs": [
    {
     "data": {
      "text/plain": [
       "[[3, 'C', 'X'], [2, 'B', 'Y'], [1, 'A', 'Z']]"
      ]
     },
     "execution_count": 38,
     "metadata": {},
     "output_type": "execute_result"
    }
   ],
   "source": [
    "sorted(data, key=lambda y:y[2])# sorting in reverse order"
   ]
  },
  {
   "cell_type": "code",
   "execution_count": 40,
   "metadata": {},
   "outputs": [
    {
     "data": {
      "text/plain": [
       "[[1, 'A', 'Z'], [2, 'B', 'Y'], [3, 'C', 'X']]"
      ]
     },
     "execution_count": 40,
     "metadata": {},
     "output_type": "execute_result"
    }
   ],
   "source": [
    "sorted(data, key=lambda x:x[2], reverse=True)"
   ]
  },
  {
   "cell_type": "code",
   "execution_count": 78,
   "metadata": {},
   "outputs": [
    {
     "data": {
      "text/plain": [
       "[[3, 'X', 'C'], [2, 'Y', 'B'], [1, 'Z', 'A']]"
      ]
     },
     "execution_count": 78,
     "metadata": {},
     "output_type": "execute_result"
    }
   ],
   "source": [
    "sorted(data, key=lambda x:x[2], reverse=True)"
   ]
  },
  {
   "cell_type": "markdown",
   "metadata": {},
   "source": [
    "# Generator Function"
   ]
  },
  {
   "cell_type": "code",
   "execution_count": 42,
   "metadata": {},
   "outputs": [
    {
     "data": {
      "text/plain": [
       "range(1, 10)"
      ]
     },
     "execution_count": 42,
     "metadata": {},
     "output_type": "execute_result"
    }
   ],
   "source": [
    "range(1,10)"
   ]
  },
  {
   "cell_type": "code",
   "execution_count": 43,
   "metadata": {},
   "outputs": [
    {
     "data": {
      "text/plain": [
       "[1, 2, 3, 4, 5, 6, 7, 8, 9, 10, 11]"
      ]
     },
     "execution_count": 43,
     "metadata": {},
     "output_type": "execute_result"
    }
   ],
   "source": [
    "list(range(1,12))"
   ]
  },
  {
   "cell_type": "code",
   "execution_count": 55,
   "metadata": {},
   "outputs": [
    {
     "name": "stdout",
     "output_type": "stream",
     "text": [
      "1\n",
      "2\n",
      "3\n",
      "4\n",
      "5\n",
      "6\n",
      "7\n",
      "8\n",
      "9\n",
      "10\n"
     ]
    }
   ],
   "source": [
    "for i in range(1,11):\n",
    "    print(i)"
   ]
  },
  {
   "cell_type": "code",
   "execution_count": 53,
   "metadata": {},
   "outputs": [
    {
     "data": {
      "text/plain": [
       "<zip at 0x1fe39f01540>"
      ]
     },
     "execution_count": 53,
     "metadata": {},
     "output_type": "execute_result"
    }
   ],
   "source": [
    "l1 = [1,2,3]\n",
    "l2 = ['a','b','c']\n",
    "l3 = zip(l1,l2)\n",
    "l3"
   ]
  },
  {
   "cell_type": "code",
   "execution_count": 88,
   "metadata": {},
   "outputs": [
    {
     "name": "stdout",
     "output_type": "stream",
     "text": [
      "<zip object at 0x7f841d896410>\n",
      "(1, 'a')\n",
      "(2, 'b')\n"
     ]
    }
   ],
   "source": [
    "l3 = zip(l1,l2)\n",
    "print(l3)\n",
    "print(next(l3))\n",
    "print(next(l3))"
   ]
  },
  {
   "cell_type": "code",
   "execution_count": 82,
   "metadata": {},
   "outputs": [
    {
     "data": {
      "text/plain": [
       "[(1, 'a'), (2, 'b'), (3, 'c')]"
      ]
     },
     "execution_count": 82,
     "metadata": {},
     "output_type": "execute_result"
    }
   ],
   "source": [
    "list(zip(l1,l2))"
   ]
  },
  {
   "cell_type": "code",
   "execution_count": 84,
   "metadata": {},
   "outputs": [
    {
     "name": "stdout",
     "output_type": "stream",
     "text": [
      "(1, 'a')\n",
      "(2, 'b')\n",
      "(3, 'c')\n"
     ]
    }
   ],
   "source": [
    "for i in zip(l1,l2):\n",
    "    print(i)"
   ]
  },
  {
   "cell_type": "code",
   "execution_count": 97,
   "metadata": {},
   "outputs": [
    {
     "name": "stdout",
     "output_type": "stream",
     "text": [
      "<generator object my_gen at 0x7f841d4d50d0>\n",
      "1\n",
      "2\n",
      "3\n",
      "4\n",
      "5\n",
      "6\n",
      "7\n",
      "8\n",
      "9\n",
      "10\n"
     ]
    }
   ],
   "source": [
    "def my_gen(s,e):\n",
    "    for i in range(s,e+1):\n",
    "        yield i\n",
    "        \n",
    "        \n",
    "abc = my_gen(1,10)\n",
    "print(abc)\n",
    "print(next(abc))\n",
    "print(next(abc))\n",
    "print(next(abc))\n",
    "print(next(abc))\n",
    "print(next(abc))\n",
    "print(next(abc))\n",
    "print(next(abc))\n",
    "print(next(abc))\n",
    "print(next(abc))\n",
    "print(next(abc))"
   ]
  },
  {
   "cell_type": "code",
   "execution_count": 98,
   "metadata": {},
   "outputs": [
    {
     "name": "stdout",
     "output_type": "stream",
     "text": [
      "1\n",
      "2\n",
      "3\n",
      "4\n",
      "5\n",
      "6\n",
      "7\n",
      "8\n",
      "9\n",
      "10\n"
     ]
    }
   ],
   "source": [
    "for i in  my_gen(1,10):\n",
    "    print(i)"
   ]
  },
  {
   "cell_type": "markdown",
   "metadata": {},
   "source": [
    "# Recursive"
   ]
  },
  {
   "cell_type": "code",
   "execution_count": 105,
   "metadata": {},
   "outputs": [
    {
     "name": "stdout",
     "output_type": "stream",
     "text": [
      "5\n",
      "4\n",
      "3\n",
      "2\n",
      "1\n",
      "0\n"
     ]
    }
   ],
   "source": [
    "def countdown(n):\n",
    "    print(n)\n",
    "    if n == 0:\n",
    "        return             # Terminate recursio\n",
    "    else:\n",
    "        countdown(n - 1) \n",
    "countdown(5)"
   ]
  }
 ],
 "metadata": {
  "kernelspec": {
   "display_name": "Python 3 (ipykernel)",
   "language": "python",
   "name": "python3"
  },
  "language_info": {
   "codemirror_mode": {
    "name": "ipython",
    "version": 3
   },
   "file_extension": ".py",
   "mimetype": "text/x-python",
   "name": "python",
   "nbconvert_exporter": "python",
   "pygments_lexer": "ipython3",
   "version": "3.9.7"
  }
 },
 "nbformat": 4,
 "nbformat_minor": 4
}
